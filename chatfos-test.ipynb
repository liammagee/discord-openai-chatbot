{
 "cells": [
  {
   "cell_type": "code",
   "execution_count": 3,
   "metadata": {},
   "outputs": [],
   "source": [
    "%load_ext dotenv\n",
    "%dotenv"
   ]
  },
  {
   "cell_type": "code",
   "execution_count": 9,
   "metadata": {},
   "outputs": [],
   "source": [
    "import os\n",
    "import json\n",
    "import openai\n",
    "openai.organization = \"org-wf4CCw2q3oGOnEjrXNsxD5pb\"\n",
    "openai.api_key = os.getenv(\"OPENAI_API_KEY\")"
   ]
  },
  {
   "cell_type": "code",
   "execution_count": 16,
   "metadata": {},
   "outputs": [
    {
     "name": "stdout",
     "output_type": "stream",
     "text": [
      "ada\n",
      "ada-code-search-code\n",
      "ada-code-search-text\n",
      "ada-search-document\n",
      "ada-search-query\n",
      "ada-similarity\n",
      "babbage\n",
      "babbage-002\n",
      "babbage-code-search-code\n",
      "babbage-code-search-text\n",
      "babbage-search-document\n",
      "babbage-search-query\n",
      "babbage-similarity\n",
      "code-davinci-edit-001\n",
      "code-search-ada-code-001\n",
      "code-search-ada-text-001\n",
      "code-search-babbage-code-001\n",
      "code-search-babbage-text-001\n",
      "curie\n",
      "curie-instruct-beta\n",
      "curie-search-document\n",
      "curie-search-query\n",
      "curie-similarity\n",
      "davinci\n",
      "davinci-002\n",
      "davinci-instruct-beta\n",
      "davinci-search-document\n",
      "davinci-search-query\n",
      "davinci-similarity\n",
      "davinci:ft-personal-2022-09-25-01-16-25\n",
      "davinci:ft-personal-2022-09-28-01-50-23\n",
      "gpt-3.5-turbo\n",
      "gpt-3.5-turbo-0301\n",
      "gpt-3.5-turbo-0613\n",
      "gpt-3.5-turbo-16k\n",
      "gpt-3.5-turbo-16k-0613\n",
      "gpt-3.5-turbo-instruct\n",
      "gpt-3.5-turbo-instruct-0914\n",
      "gpt-4\n",
      "gpt-4-0314\n",
      "gpt-4-0613\n",
      "text-ada-001\n",
      "text-babbage-001\n",
      "text-curie-001\n",
      "text-davinci-001\n",
      "text-davinci-002\n",
      "text-davinci-003\n",
      "text-davinci-edit-001\n",
      "text-embedding-ada-002\n",
      "text-search-ada-doc-001\n",
      "text-search-ada-query-001\n",
      "text-search-babbage-doc-001\n",
      "text-search-babbage-query-001\n",
      "text-search-curie-doc-001\n",
      "text-search-curie-query-001\n",
      "text-search-davinci-doc-001\n",
      "text-search-davinci-query-001\n",
      "text-similarity-ada-001\n",
      "text-similarity-babbage-001\n",
      "text-similarity-curie-001\n",
      "text-similarity-davinci-001\n",
      "whisper-1\n"
     ]
    }
   ],
   "source": [
    "models = openai.Model.list()\n",
    "model_names = [m['id'] for m in models['data']]\n",
    "for m in sorted(model_names):\n",
    "    print(m)"
   ]
  },
  {
   "cell_type": "code",
   "execution_count": null,
   "metadata": {},
   "outputs": [],
   "source": []
  }
 ],
 "metadata": {
  "kernelspec": {
   "display_name": "venv",
   "language": "python",
   "name": "python3"
  },
  "language_info": {
   "codemirror_mode": {
    "name": "ipython",
    "version": 3
   },
   "file_extension": ".py",
   "mimetype": "text/x-python",
   "name": "python",
   "nbconvert_exporter": "python",
   "pygments_lexer": "ipython3",
   "version": "3.10.10"
  }
 },
 "nbformat": 4,
 "nbformat_minor": 2
}
